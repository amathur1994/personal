{
 "cells": [
  {
   "cell_type": "code",
   "execution_count": 1,
   "id": "e225a898-e755-4243-aac2-a31ca3fe30b4",
   "metadata": {},
   "outputs": [],
   "source": [
    "import pandas as pd \n",
    "import numpy as np \n",
    "import seaborn as sns \n",
    "import matplotlib.pyplot as plt"
   ]
  },
  {
   "cell_type": "code",
   "execution_count": 2,
   "id": "18975a77-0bb8-4a98-aef3-896a7f57e062",
   "metadata": {},
   "outputs": [
    {
     "data": {
      "text/plain": [
       "(2000, 8)"
      ]
     },
     "execution_count": 2,
     "metadata": {},
     "output_type": "execute_result"
    }
   ],
   "source": [
    "df = pd.read_csv(\"loan_approval.csv\")\n",
    "df.shape"
   ]
  },
  {
   "cell_type": "code",
   "execution_count": 3,
   "id": "8617a68d-0327-46f3-9059-5b2e674b69c5",
   "metadata": {},
   "outputs": [
    {
     "name": "stdout",
     "output_type": "stream",
     "text": [
      "<class 'pandas.core.frame.DataFrame'>\n",
      "RangeIndex: 2000 entries, 0 to 1999\n",
      "Data columns (total 8 columns):\n",
      " #   Column          Non-Null Count  Dtype  \n",
      "---  ------          --------------  -----  \n",
      " 0   name            2000 non-null   object \n",
      " 1   city            2000 non-null   object \n",
      " 2   income          2000 non-null   int64  \n",
      " 3   credit_score    2000 non-null   int64  \n",
      " 4   loan_amount     2000 non-null   int64  \n",
      " 5   years_employed  2000 non-null   int64  \n",
      " 6   points          2000 non-null   float64\n",
      " 7   loan_approved   2000 non-null   bool   \n",
      "dtypes: bool(1), float64(1), int64(4), object(2)\n",
      "memory usage: 111.5+ KB\n"
     ]
    }
   ],
   "source": [
    "df.info()"
   ]
  },
  {
   "cell_type": "code",
   "execution_count": 4,
   "id": "cb5f467e-d7e3-40fa-8754-e5d88f44e88d",
   "metadata": {},
   "outputs": [
    {
     "data": {
      "text/html": [
       "<div>\n",
       "<style scoped>\n",
       "    .dataframe tbody tr th:only-of-type {\n",
       "        vertical-align: middle;\n",
       "    }\n",
       "\n",
       "    .dataframe tbody tr th {\n",
       "        vertical-align: top;\n",
       "    }\n",
       "\n",
       "    .dataframe thead th {\n",
       "        text-align: right;\n",
       "    }\n",
       "</style>\n",
       "<table border=\"1\" class=\"dataframe\">\n",
       "  <thead>\n",
       "    <tr style=\"text-align: right;\">\n",
       "      <th></th>\n",
       "      <th>name</th>\n",
       "      <th>city</th>\n",
       "      <th>income</th>\n",
       "      <th>credit_score</th>\n",
       "      <th>loan_amount</th>\n",
       "      <th>years_employed</th>\n",
       "      <th>points</th>\n",
       "      <th>loan_approved</th>\n",
       "    </tr>\n",
       "  </thead>\n",
       "  <tbody>\n",
       "    <tr>\n",
       "      <th>0</th>\n",
       "      <td>Allison Hill</td>\n",
       "      <td>East Jill</td>\n",
       "      <td>113810</td>\n",
       "      <td>389</td>\n",
       "      <td>39698</td>\n",
       "      <td>27</td>\n",
       "      <td>50.0</td>\n",
       "      <td>False</td>\n",
       "    </tr>\n",
       "    <tr>\n",
       "      <th>1</th>\n",
       "      <td>Brandon Hall</td>\n",
       "      <td>New Jamesside</td>\n",
       "      <td>44592</td>\n",
       "      <td>729</td>\n",
       "      <td>15446</td>\n",
       "      <td>28</td>\n",
       "      <td>55.0</td>\n",
       "      <td>False</td>\n",
       "    </tr>\n",
       "    <tr>\n",
       "      <th>2</th>\n",
       "      <td>Rhonda Smith</td>\n",
       "      <td>Lake Roberto</td>\n",
       "      <td>33278</td>\n",
       "      <td>584</td>\n",
       "      <td>11189</td>\n",
       "      <td>13</td>\n",
       "      <td>45.0</td>\n",
       "      <td>False</td>\n",
       "    </tr>\n",
       "    <tr>\n",
       "      <th>3</th>\n",
       "      <td>Gabrielle Davis</td>\n",
       "      <td>West Melanieview</td>\n",
       "      <td>127196</td>\n",
       "      <td>344</td>\n",
       "      <td>48823</td>\n",
       "      <td>29</td>\n",
       "      <td>50.0</td>\n",
       "      <td>False</td>\n",
       "    </tr>\n",
       "    <tr>\n",
       "      <th>4</th>\n",
       "      <td>Valerie Gray</td>\n",
       "      <td>Mariastad</td>\n",
       "      <td>66048</td>\n",
       "      <td>496</td>\n",
       "      <td>47174</td>\n",
       "      <td>4</td>\n",
       "      <td>25.0</td>\n",
       "      <td>False</td>\n",
       "    </tr>\n",
       "  </tbody>\n",
       "</table>\n",
       "</div>"
      ],
      "text/plain": [
       "              name              city  income  credit_score  loan_amount  \\\n",
       "0     Allison Hill         East Jill  113810           389        39698   \n",
       "1     Brandon Hall     New Jamesside   44592           729        15446   \n",
       "2     Rhonda Smith      Lake Roberto   33278           584        11189   \n",
       "3  Gabrielle Davis  West Melanieview  127196           344        48823   \n",
       "4     Valerie Gray         Mariastad   66048           496        47174   \n",
       "\n",
       "   years_employed  points  loan_approved  \n",
       "0              27    50.0          False  \n",
       "1              28    55.0          False  \n",
       "2              13    45.0          False  \n",
       "3              29    50.0          False  \n",
       "4               4    25.0          False  "
      ]
     },
     "execution_count": 4,
     "metadata": {},
     "output_type": "execute_result"
    }
   ],
   "source": [
    "df.head()"
   ]
  },
  {
   "cell_type": "code",
   "execution_count": 5,
   "id": "6b1a10b2-eb6d-4119-a4e8-2ef434b822e7",
   "metadata": {},
   "outputs": [
    {
     "data": {
      "text/plain": [
       "loan_approved\n",
       "False    1121\n",
       "True      879\n",
       "Name: count, dtype: int64"
      ]
     },
     "execution_count": 5,
     "metadata": {},
     "output_type": "execute_result"
    }
   ],
   "source": [
    "# checking for class balance in dataset \n",
    "df.loan_approved.value_counts()"
   ]
  },
  {
   "cell_type": "code",
   "execution_count": 6,
   "id": "f0fbd1ef-a28a-4369-913a-01663b385991",
   "metadata": {},
   "outputs": [
    {
     "name": "stdout",
     "output_type": "stream",
     "text": [
      "count of unique names: 2000\n",
      "count of unique cities: 1882\n",
      "count of unique cities in case of loan approval: 851\n",
      "count of unique cities in case of loan rejections: 1087\n"
     ]
    }
   ],
   "source": [
    "# confirm that name and city variables are redundant \n",
    "\n",
    "print(\"count of unique names:\", df.name.nunique())\n",
    "print(\"count of unique cities:\", df.city.nunique())\n",
    "\n",
    "# just checking in case few cities have disproportionately high no. of approvals or rejections \n",
    "print(\"count of unique cities in case of loan approval:\", df[df.loan_approved == True][\"city\"].nunique())\n",
    "print(\"count of unique cities in case of loan rejections:\", df[df.loan_approved == False][\"city\"].nunique())"
   ]
  },
  {
   "cell_type": "code",
   "execution_count": 7,
   "id": "65524d26-b728-48b2-bed3-2a9cf99cfad6",
   "metadata": {},
   "outputs": [
    {
     "data": {
      "image/png": "[encoded data removed]",
      "text/plain": [
       "<Figure size 1200x1200 with 6 Axes>"
      ]
     },
     "metadata": {},
     "output_type": "display_data"
    }
   ],
   "source": [
    "# check the variance of the numercial features against target classes \n",
    "cols = ['income', 'credit_score', 'loan_amount', 'years_employed', 'points']\n",
    "\n",
    "fig, axes = plt.subplots(2, 3, figsize=(12, 12))\n",
    "axes = axes.flatten() \n",
    "\n",
    "for i, col in enumerate(cols):\n",
    "    sns.boxplot(x='loan_approved', y=col, data=df, ax=axes[i])\n",
    "    axes[i].set_xlabel('Loan Approved')\n",
    "    axes[i].set_ylabel(col)\n",
    "\n",
    "if len(cols) < len(axes):\n",
    "    axes[len(cols)].set_visible(False)\n",
    "\n",
    "plt.tight_layout()\n",
    "plt.show()"
   ]
  },
  {
   "cell_type": "markdown",
   "id": "90b9d07e-2060-4656-8752-1fe62a26c117",
   "metadata": {},
   "source": [
    "observations:\n",
    "\n",
    "1. we see some clear rules for loan approval from above plots - high median income of >100k, \n",
    "high credit score of >750, lower loan amounts, high median point ~ 75"
   ]
  },
  {
   "cell_type": "code",
   "execution_count": 8,
   "id": "2f329b91-c30c-419f-8f8f-a7f02fae0cc6",
   "metadata": {},
   "outputs": [],
   "source": [
    "df2 = df.copy()"
   ]
  },
  {
   "cell_type": "code",
   "execution_count": 9,
   "id": "f5d23e52-c7ac-4e56-a385-1a304bd95114",
   "metadata": {},
   "outputs": [],
   "source": [
    "# standardize numercial columns \n",
    "def std_scale(col):\n",
    "    mean, std = df2[col].mean(), df2[col].std()\n",
    "    ser = df2[col] - mean\n",
    "    ser = ser/std\n",
    "    return ser \n",
    "\n",
    "\n",
    "for col in cols:\n",
    "    df2[col] = std_scale(col)"
   ]
  },
  {
   "cell_type": "code",
   "execution_count": 10,
   "id": "5327c9ae-cbd8-47f9-98c3-12da17b8b9d2",
   "metadata": {},
   "outputs": [],
   "source": [
    "df2.drop([\"name\", \"city\"], axis =1 ,inplace = True)"
   ]
  },
  {
   "cell_type": "code",
   "execution_count": 11,
   "id": "4b75f709-271c-4a84-b062-470c7b45fe61",
   "metadata": {},
   "outputs": [],
   "source": [
    "# assign target values of 0 (not approved) and 1 (approved) \n",
    "df2[\"loan_approved\"] = df2[\"loan_approved\"]*1"
   ]
  },
  {
   "cell_type": "code",
   "execution_count": 12,
   "id": "aaaeadbe-ccc2-4fe8-af44-fed9d7299924",
   "metadata": {},
   "outputs": [],
   "source": [
    "from sklearn.model_selection import train_test_split\n",
    "from sklearn.model_selection import RandomizedSearchCV\n",
    "from scipy.stats import uniform, randint\n",
    "\n",
    "# dropping points (risk factor) as training feature as it a derived value not normally available in primary banking data -\n",
    "# need to build a robust model without relying on secondary features \n",
    "X = (df2.drop([\"loan_approved\",\"points\"], axis=1))\n",
    "y = (df2[\"loan_approved\"])\n",
    "\n",
    "X_train, X_test, y_train, y_test = train_test_split(X,y, test_size = 0.20)"
   ]
  },
  {
   "cell_type": "code",
   "execution_count": 13,
   "id": "34f81bf7-5433-4dfc-bf2b-f045d16216f2",
   "metadata": {},
   "outputs": [
    {
     "name": "stdout",
     "output_type": "stream",
     "text": [
      "training data shape: (1600, 4)\n",
      "test data shape: (400, 4)\n"
     ]
    }
   ],
   "source": [
    "# check the post-split shape \n",
    "print(\"training data shape:\", X_train.shape)\n",
    "print(\"test data shape:\",X_test.shape)"
   ]
  },
  {
   "cell_type": "code",
   "execution_count": 14,
   "id": "cb64d178-0405-420d-98f3-e4376f7ba7c8",
   "metadata": {},
   "outputs": [],
   "source": [
    "from sklearn.metrics import precision_score, recall_score, f1_score, confusion_matrix, accuracy_score\n",
    "# write function that will evaluate the model performance \n",
    "\n",
    "def eval_model(y_test, y_pred):\n",
    "    prc = precision_score(y_test, y_pred)\n",
    "    recall = recall_score(y_test, y_pred)\n",
    "    f1 = f1_score(y_test, y_pred)\n",
    "    print(\"Precision:\", prc.round(3))\n",
    "    print(\"Recall:\", recall.round(3))\n",
    "    print(\"F1 score:\", f1.round(3))\n",
    "\n",
    "    cm = confusion_matrix(y_test, y_pred)\n",
    "    df = pd.DataFrame(cm)\n",
    "    df.columns = [\"Predicted Negative\", \"Predicted Positive\"]\n",
    "    df.index = [\"Actual Negative\", \"Actual Positive\"]\n",
    "\n",
    "    print(\"confusion matrix:\")\n",
    "    return df "
   ]
  },
  {
   "cell_type": "code",
   "execution_count": 44,
   "id": "3746c63a-188c-4d25-8bec-7528569779b0",
   "metadata": {},
   "outputs": [
    {
     "name": "stdout",
     "output_type": "stream",
     "text": [
      "Training Accuracy: 0.978\n",
      "Test Accuracy: 0.943\n"
     ]
    }
   ],
   "source": [
    "# start with simple non-parameteric KNN classifier\n",
    "# since the features have been normalized distance calc becomes sensible \n",
    "from sklearn.neighbors import KNeighborsClassifier\n",
    "\n",
    "knn = KNeighborsClassifier(n_neighbors = 3)\n",
    "knn.fit(X_train, y_train)\n",
    "\n",
    "y_train_pred = knn.predict(X_train)\n",
    "y_test_pred = knn.predict(X_test)\n",
    "\n",
    "train_acc = accuracy_score(y_train, y_train_pred)\n",
    "test_acc = accuracy_score(y_test, y_test_pred)\n",
    "\n",
    "print(f\"Training Accuracy: {train_acc:.3f}\")\n",
    "print(f\"Test Accuracy: {test_acc:.3f}\")"
   ]
  },
  {
   "cell_type": "code",
   "execution_count": 16,
   "id": "7fd22095-612b-4021-9f14-55a4e0d7c993",
   "metadata": {},
   "outputs": [
    {
     "name": "stdout",
     "output_type": "stream",
     "text": [
      "Precision: 0.923\n",
      "Recall: 0.957\n",
      "F1 score: 0.94\n",
      "confusion matrix:\n"
     ]
    },
    {
     "data": {
      "text/html": [
       "<div>\n",
       "<style scoped>\n",
       "    .dataframe tbody tr th:only-of-type {\n",
       "        vertical-align: middle;\n",
       "    }\n",
       "\n",
       "    .dataframe tbody tr th {\n",
       "        vertical-align: top;\n",
       "    }\n",
       "\n",
       "    .dataframe thead th {\n",
       "        text-align: right;\n",
       "    }\n",
       "</style>\n",
       "<table border=\"1\" class=\"dataframe\">\n",
       "  <thead>\n",
       "    <tr style=\"text-align: right;\">\n",
       "      <th></th>\n",
       "      <th>Predicted Negative</th>\n",
       "      <th>Predicted Positive</th>\n",
       "    </tr>\n",
       "  </thead>\n",
       "  <tbody>\n",
       "    <tr>\n",
       "      <th>Actual Negative</th>\n",
       "      <td>198</td>\n",
       "      <td>15</td>\n",
       "    </tr>\n",
       "    <tr>\n",
       "      <th>Actual Positive</th>\n",
       "      <td>8</td>\n",
       "      <td>179</td>\n",
       "    </tr>\n",
       "  </tbody>\n",
       "</table>\n",
       "</div>"
      ],
      "text/plain": [
       "                 Predicted Negative  Predicted Positive\n",
       "Actual Negative                 198                  15\n",
       "Actual Positive                   8                 179"
      ]
     },
     "execution_count": 16,
     "metadata": {},
     "output_type": "execute_result"
    }
   ],
   "source": [
    "eval_model(y_test, y_test_pred)"
   ]
  },
  {
   "cell_type": "code",
   "execution_count": 17,
   "id": "725b7458-0de5-4cda-8974-5d5308512600",
   "metadata": {},
   "outputs": [],
   "source": [
    "# lets evaluate knn performance by tuning the n_neighbor hyperparameter \n",
    "ns = range(2,10)\n",
    "knn_res = dict()\n",
    "for n in ns:\n",
    "    knn = KNeighborsClassifier(n_neighbors = n)\n",
    "    knn.fit(X_train, y_train)\n",
    "    y_pred = knn.predict(X_test)\n",
    "    f1 = f1_score(y_test, y_pred).round(3)\n",
    "    knn_res.update({n:f1})"
   ]
  },
  {
   "cell_type": "code",
   "execution_count": 18,
   "id": "606dea55-f54f-44f2-9d9d-84e08504465c",
   "metadata": {},
   "outputs": [
    {
     "data": {
      "text/html": [
       "<div>\n",
       "<style scoped>\n",
       "    .dataframe tbody tr th:only-of-type {\n",
       "        vertical-align: middle;\n",
       "    }\n",
       "\n",
       "    .dataframe tbody tr th {\n",
       "        vertical-align: top;\n",
       "    }\n",
       "\n",
       "    .dataframe thead th {\n",
       "        text-align: right;\n",
       "    }\n",
       "</style>\n",
       "<table border=\"1\" class=\"dataframe\">\n",
       "  <thead>\n",
       "    <tr style=\"text-align: right;\">\n",
       "      <th></th>\n",
       "      <th>f1_score</th>\n",
       "      <th>n-neighbors</th>\n",
       "    </tr>\n",
       "  </thead>\n",
       "  <tbody>\n",
       "    <tr>\n",
       "      <th>0</th>\n",
       "      <td>0.929</td>\n",
       "      <td>2</td>\n",
       "    </tr>\n",
       "    <tr>\n",
       "      <th>1</th>\n",
       "      <td>0.940</td>\n",
       "      <td>3</td>\n",
       "    </tr>\n",
       "    <tr>\n",
       "      <th>2</th>\n",
       "      <td>0.930</td>\n",
       "      <td>4</td>\n",
       "    </tr>\n",
       "    <tr>\n",
       "      <th>3</th>\n",
       "      <td>0.945</td>\n",
       "      <td>5</td>\n",
       "    </tr>\n",
       "    <tr>\n",
       "      <th>4</th>\n",
       "      <td>0.952</td>\n",
       "      <td>6</td>\n",
       "    </tr>\n",
       "    <tr>\n",
       "      <th>5</th>\n",
       "      <td>0.948</td>\n",
       "      <td>7</td>\n",
       "    </tr>\n",
       "    <tr>\n",
       "      <th>6</th>\n",
       "      <td>0.952</td>\n",
       "      <td>8</td>\n",
       "    </tr>\n",
       "    <tr>\n",
       "      <th>7</th>\n",
       "      <td>0.948</td>\n",
       "      <td>9</td>\n",
       "    </tr>\n",
       "  </tbody>\n",
       "</table>\n",
       "</div>"
      ],
      "text/plain": [
       "   f1_score  n-neighbors\n",
       "0     0.929            2\n",
       "1     0.940            3\n",
       "2     0.930            4\n",
       "3     0.945            5\n",
       "4     0.952            6\n",
       "5     0.948            7\n",
       "6     0.952            8\n",
       "7     0.948            9"
      ]
     },
     "execution_count": 18,
     "metadata": {},
     "output_type": "execute_result"
    }
   ],
   "source": [
    "knn_summary = pd.DataFrame(knn_res.values(), columns = [\"f1_score\"])\n",
    "knn_summary[\"n-neighbors\"] = knn_res.keys()\n",
    "knn_summary"
   ]
  },
  {
   "cell_type": "code",
   "execution_count": 42,
   "id": "1b2bf68f-0a42-4392-a301-e0cd99816c19",
   "metadata": {},
   "outputs": [
    {
     "name": "stdout",
     "output_type": "stream",
     "text": [
      "Precision: 0.923\n",
      "Recall: 0.968\n",
      "F1 score: 0.945\n",
      "confusion matrix:\n"
     ]
    },
    {
     "data": {
      "text/html": [
       "<div>\n",
       "<style scoped>\n",
       "    .dataframe tbody tr th:only-of-type {\n",
       "        vertical-align: middle;\n",
       "    }\n",
       "\n",
       "    .dataframe tbody tr th {\n",
       "        vertical-align: top;\n",
       "    }\n",
       "\n",
       "    .dataframe thead th {\n",
       "        text-align: right;\n",
       "    }\n",
       "</style>\n",
       "<table border=\"1\" class=\"dataframe\">\n",
       "  <thead>\n",
       "    <tr style=\"text-align: right;\">\n",
       "      <th></th>\n",
       "      <th>Predicted Negative</th>\n",
       "      <th>Predicted Positive</th>\n",
       "    </tr>\n",
       "  </thead>\n",
       "  <tbody>\n",
       "    <tr>\n",
       "      <th>Actual Negative</th>\n",
       "      <td>198</td>\n",
       "      <td>15</td>\n",
       "    </tr>\n",
       "    <tr>\n",
       "      <th>Actual Positive</th>\n",
       "      <td>6</td>\n",
       "      <td>181</td>\n",
       "    </tr>\n",
       "  </tbody>\n",
       "</table>\n",
       "</div>"
      ],
      "text/plain": [
       "                 Predicted Negative  Predicted Positive\n",
       "Actual Negative                 198                  15\n",
       "Actual Positive                   6                 181"
      ]
     },
     "execution_count": 42,
     "metadata": {},
     "output_type": "execute_result"
    }
   ],
   "source": [
    "knn = KNeighborsClassifier(n_neighbors = 5)\n",
    "knn.fit(X_train, y_train)\n",
    "y_pred = knn.predict(X_test)\n",
    "\n",
    "eval_model(y_test, y_pred)"
   ]
  },
  {
   "cell_type": "markdown",
   "id": "9500145c-d52b-45ad-bfec-d57e185589a3",
   "metadata": {},
   "source": [
    "**Observations**:\n",
    "1. we see that the highest model performance of **94.6%** (f1 score) lies at n=7 - this becomes our baseline accuracy\n",
    "2. KNN model leads to fairly equal no. of FPs and FNs with this baseline - as seen in above confusion matrix \n"
   ]
  },
  {
   "cell_type": "code",
   "execution_count": 20,
   "id": "f22ecfd4-2537-419a-8d70-e9cd484417cc",
   "metadata": {},
   "outputs": [
    {
     "name": "stdout",
     "output_type": "stream",
     "text": [
      "Training Accuracy: 0.906\n",
      "Test Accuracy: 0.900\n"
     ]
    }
   ],
   "source": [
    "# lets try to improve upon it with a parameteric model i.e. logistic regression \n",
    "from sklearn.linear_model import LogisticRegression\n",
    "\n",
    "clf = LogisticRegression(\n",
    "    solver = \"lbfgs\",\n",
    "    max_iter = 100,\n",
    "    random_state = 42\n",
    "\n",
    ")\n",
    "clf.fit(X_train,y_train)\n",
    "\n",
    "y_train_pred = clf.predict(X_train)\n",
    "y_test_pred = clf.predict(X_test)\n",
    "\n",
    "train_acc = accuracy_score(y_train, y_train_pred)\n",
    "test_acc = accuracy_score(y_test, y_test_pred)\n",
    "\n",
    "print(f\"Training Accuracy: {train_acc:.3f}\")\n",
    "print(f\"Test Accuracy: {test_acc:.3f}\")"
   ]
  },
  {
   "cell_type": "code",
   "execution_count": 21,
   "id": "cbb66094-6450-4b08-a4a3-f68c7f85fe6c",
   "metadata": {},
   "outputs": [
    {
     "name": "stdout",
     "output_type": "stream",
     "text": [
      "Precision: 0.889\n",
      "Recall: 0.898\n",
      "F1 score: 0.894\n",
      "confusion matrix:\n"
     ]
    },
    {
     "data": {
      "text/html": [
       "<div>\n",
       "<style scoped>\n",
       "    .dataframe tbody tr th:only-of-type {\n",
       "        vertical-align: middle;\n",
       "    }\n",
       "\n",
       "    .dataframe tbody tr th {\n",
       "        vertical-align: top;\n",
       "    }\n",
       "\n",
       "    .dataframe thead th {\n",
       "        text-align: right;\n",
       "    }\n",
       "</style>\n",
       "<table border=\"1\" class=\"dataframe\">\n",
       "  <thead>\n",
       "    <tr style=\"text-align: right;\">\n",
       "      <th></th>\n",
       "      <th>Predicted Negative</th>\n",
       "      <th>Predicted Positive</th>\n",
       "    </tr>\n",
       "  </thead>\n",
       "  <tbody>\n",
       "    <tr>\n",
       "      <th>Actual Negative</th>\n",
       "      <td>192</td>\n",
       "      <td>21</td>\n",
       "    </tr>\n",
       "    <tr>\n",
       "      <th>Actual Positive</th>\n",
       "      <td>19</td>\n",
       "      <td>168</td>\n",
       "    </tr>\n",
       "  </tbody>\n",
       "</table>\n",
       "</div>"
      ],
      "text/plain": [
       "                 Predicted Negative  Predicted Positive\n",
       "Actual Negative                 192                  21\n",
       "Actual Positive                  19                 168"
      ]
     },
     "execution_count": 21,
     "metadata": {},
     "output_type": "execute_result"
    }
   ],
   "source": [
    "eval_model(y_test, y_test_pred)"
   ]
  },
  {
   "cell_type": "code",
   "execution_count": 22,
   "id": "e431baff-d251-46c6-b770-73a3bc43f373",
   "metadata": {},
   "outputs": [
    {
     "name": "stdout",
     "output_type": "stream",
     "text": [
      "          Feature  Coefficient  coef_abs\n",
      "1    credit_score     3.925915  3.925915\n",
      "0          income     1.913119  1.913119\n",
      "2     loan_amount    -1.236173  1.236173\n",
      "3  years_employed     0.711441  0.711441\n"
     ]
    }
   ],
   "source": [
    "coef = clf.coef_[0]  \n",
    "features = X.columns\n",
    "\n",
    "df_imp = pd.DataFrame({'Feature': features,'Coefficient': coef})\n",
    "df_imp[\"coef_abs\"] = abs(df_imp.Coefficient)\n",
    "print(df_imp.sort_values(by = \"coef_abs\", ascending = False))"
   ]
  },
  {
   "cell_type": "markdown",
   "id": "fc8b48f5-9ddf-40e2-a8ee-c41639eaf8a6",
   "metadata": {},
   "source": [
    "**Observations:**\n",
    "  1. Logistic regression is actually leading to lower accuracy vs KNN i.e. both FPs and FNs increased considerably\n",
    "  2. The model seems to fill equally well with training and test data so there **doesn't** seem to be any visible overfitting - regularization tuning would not yield improved performance.\n",
    "  3. Comparing the model's coefficient indicates **credit score** is the **most significant feature** in determining customer's loan approval. Additionally loan amount has an **inverse relationship** with loan approval i.e. lower amounts have a higher probability of approval."
   ]
  },
  {
   "cell_type": "code",
   "execution_count": 23,
   "id": "d48885bc-7046-4bc9-a0d9-1efe1c640133",
   "metadata": {},
   "outputs": [
    {
     "name": "stdout",
     "output_type": "stream",
     "text": [
      "Training Accuracy: 1.000\n",
      "Test Accuracy: 0.988\n"
     ]
    }
   ],
   "source": [
    "# ensemble modelling \n",
    "from sklearn.ensemble import RandomForestClassifier\n",
    "\n",
    "rf = RandomForestClassifier(\n",
    "    n_estimators=120,       \n",
    "    max_depth=None,        \n",
    "    min_samples_split=2,    \n",
    "    min_samples_leaf=1,\n",
    "    random_state = 42\n",
    ")\n",
    "rf.fit(X_train,y_train)\n",
    "\n",
    "y_train_pred = rf.predict(X_train)\n",
    "y_test_pred = rf.predict(X_test)\n",
    "\n",
    "train_acc = accuracy_score(y_train, y_train_pred)\n",
    "test_acc = accuracy_score(y_test, y_test_pred)\n",
    "\n",
    "print(f\"Training Accuracy: {train_acc:.3f}\")\n",
    "print(f\"Test Accuracy: {test_acc:.3f}\")"
   ]
  },
  {
   "cell_type": "code",
   "execution_count": 24,
   "id": "b83baa33-2eb1-416f-8eb5-9ebb2a1843b3",
   "metadata": {},
   "outputs": [
    {
     "name": "stdout",
     "output_type": "stream",
     "text": [
      "Precision: 0.979\n",
      "Recall: 0.995\n",
      "F1 score: 0.987\n",
      "confusion matrix:\n"
     ]
    },
    {
     "data": {
      "text/html": [
       "<div>\n",
       "<style scoped>\n",
       "    .dataframe tbody tr th:only-of-type {\n",
       "        vertical-align: middle;\n",
       "    }\n",
       "\n",
       "    .dataframe tbody tr th {\n",
       "        vertical-align: top;\n",
       "    }\n",
       "\n",
       "    .dataframe thead th {\n",
       "        text-align: right;\n",
       "    }\n",
       "</style>\n",
       "<table border=\"1\" class=\"dataframe\">\n",
       "  <thead>\n",
       "    <tr style=\"text-align: right;\">\n",
       "      <th></th>\n",
       "      <th>Predicted Negative</th>\n",
       "      <th>Predicted Positive</th>\n",
       "    </tr>\n",
       "  </thead>\n",
       "  <tbody>\n",
       "    <tr>\n",
       "      <th>Actual Negative</th>\n",
       "      <td>209</td>\n",
       "      <td>4</td>\n",
       "    </tr>\n",
       "    <tr>\n",
       "      <th>Actual Positive</th>\n",
       "      <td>1</td>\n",
       "      <td>186</td>\n",
       "    </tr>\n",
       "  </tbody>\n",
       "</table>\n",
       "</div>"
      ],
      "text/plain": [
       "                 Predicted Negative  Predicted Positive\n",
       "Actual Negative                 209                   4\n",
       "Actual Positive                   1                 186"
      ]
     },
     "execution_count": 24,
     "metadata": {},
     "output_type": "execute_result"
    }
   ],
   "source": [
    "eval_model(y_test, y_test_pred)"
   ]
  },
  {
   "cell_type": "code",
   "execution_count": 25,
   "id": "b2e80b9c-230d-4e6e-9520-9cacb9081f43",
   "metadata": {},
   "outputs": [
    {
     "name": "stdout",
     "output_type": "stream",
     "text": [
      "Fitting 5 folds for each of 50 candidates, totalling 250 fits\n",
      "{'max_depth': 16, 'max_features': 'sqrt', 'min_samples_leaf': 1, 'min_samples_split': 6, 'n_estimators': 267}\n"
     ]
    }
   ],
   "source": [
    "param_dist = {\n",
    "    'n_estimators': randint(50, 300),         \n",
    "    'max_depth': randint(3, 20),              \n",
    "    'min_samples_split': randint(2, 10),      \n",
    "    'min_samples_leaf': randint(1, 5),        \n",
    "    'max_features': ['sqrt', None],   \n",
    "}\n",
    "\n",
    "rs = RandomizedSearchCV(\n",
    "    estimator=rf,\n",
    "    param_distributions=param_dist,\n",
    "    n_iter=50,              \n",
    "    scoring='accuracy',\n",
    "    cv=5,                    \n",
    "    random_state=42,\n",
    "    verbose = 1\n",
    ")\n",
    "\n",
    "rs.fit(X_train, y_train)\n",
    "print(rs.best_params_)\n",
    "\n",
    "rf_final = rs.best_estimator_"
   ]
  },
  {
   "cell_type": "code",
   "execution_count": 26,
   "id": "bc6b4500-7837-45af-a846-921ff780ffa3",
   "metadata": {},
   "outputs": [
    {
     "name": "stdout",
     "output_type": "stream",
     "text": [
      "Training Accuracy: 0.999\n",
      "Test Accuracy: 0.988\n"
     ]
    }
   ],
   "source": [
    "y_train_pred = rf_final.predict(X_train)\n",
    "y_test_pred = rf_final.predict(X_test)\n",
    "\n",
    "train_acc = accuracy_score(y_train, y_train_pred)\n",
    "test_acc = accuracy_score(y_test, y_test_pred)\n",
    "\n",
    "print(f\"Training Accuracy: {train_acc:.3f}\")\n",
    "print(f\"Test Accuracy: {test_acc:.3f}\")"
   ]
  },
  {
   "cell_type": "code",
   "execution_count": 27,
   "id": "3b226373-e1cf-410c-bbfa-cbd5bcb87ada",
   "metadata": {},
   "outputs": [
    {
     "name": "stdout",
     "output_type": "stream",
     "text": [
      "Precision: 0.979\n",
      "Recall: 0.995\n",
      "F1 score: 0.987\n",
      "confusion matrix:\n"
     ]
    },
    {
     "data": {
      "text/html": [
       "<div>\n",
       "<style scoped>\n",
       "    .dataframe tbody tr th:only-of-type {\n",
       "        vertical-align: middle;\n",
       "    }\n",
       "\n",
       "    .dataframe tbody tr th {\n",
       "        vertical-align: top;\n",
       "    }\n",
       "\n",
       "    .dataframe thead th {\n",
       "        text-align: right;\n",
       "    }\n",
       "</style>\n",
       "<table border=\"1\" class=\"dataframe\">\n",
       "  <thead>\n",
       "    <tr style=\"text-align: right;\">\n",
       "      <th></th>\n",
       "      <th>Predicted Negative</th>\n",
       "      <th>Predicted Positive</th>\n",
       "    </tr>\n",
       "  </thead>\n",
       "  <tbody>\n",
       "    <tr>\n",
       "      <th>Actual Negative</th>\n",
       "      <td>209</td>\n",
       "      <td>4</td>\n",
       "    </tr>\n",
       "    <tr>\n",
       "      <th>Actual Positive</th>\n",
       "      <td>1</td>\n",
       "      <td>186</td>\n",
       "    </tr>\n",
       "  </tbody>\n",
       "</table>\n",
       "</div>"
      ],
      "text/plain": [
       "                 Predicted Negative  Predicted Positive\n",
       "Actual Negative                 209                   4\n",
       "Actual Positive                   1                 186"
      ]
     },
     "execution_count": 27,
     "metadata": {},
     "output_type": "execute_result"
    }
   ],
   "source": [
    "eval_model(y_test, y_test_pred)"
   ]
  },
  {
   "cell_type": "code",
   "execution_count": 28,
   "id": "a0263f79-50f9-48a2-911b-d3daaac4a45b",
   "metadata": {},
   "outputs": [
    {
     "data": {
      "image/png": "[encoded data removed]",
      "text/plain": [
       "<Figure size 600x300 with 1 Axes>"
      ]
     },
     "metadata": {},
     "output_type": "display_data"
    }
   ],
   "source": [
    "imp_coeff = rf_final.feature_importances_\n",
    "\n",
    "df = pd.DataFrame({'Feature': X.columns,'Importance': imp_coeff})\n",
    "df.sort_values(by = \"Importance\", ascending = False, inplace = True)\n",
    "\n",
    "plt.figure(figsize=(6, 3))\n",
    "sns.barplot(x='Importance', y='Feature', data=df)\n",
    "plt.xlabel('Importance Coefficient')\n",
    "plt.ylabel('Feature')\n",
    "plt.show()"
   ]
  },
  {
   "cell_type": "code",
   "execution_count": 30,
   "id": "ad2d8b67-6688-444e-be0f-f1181fcf4d20",
   "metadata": {},
   "outputs": [
    {
     "name": "stdout",
     "output_type": "stream",
     "text": [
      "          Feature  Importance\n",
      "1    credit_score    0.653570\n",
      "0          income    0.178670\n",
      "2     loan_amount    0.107424\n",
      "3  years_employed    0.060335\n"
     ]
    }
   ],
   "source": [
    "print(df)"
   ]
  },
  {
   "cell_type": "markdown",
   "id": "146bfc9f-262d-42c7-a91d-5b85b77e2a1e",
   "metadata": {},
   "source": [
    "**Observations**\n",
    "1. Random Forest leads to significant improvement in model performance - with final F1 score of **97%** and test set accuracy of **97.5%**\n",
    "2. The n_estimators (no of trees) hyperparameter was increased from default 100 to 120 - led to precision improvement from 95.9% to 97%.\n",
    "3. Hyperparameter tuning with randomized search led to similar performance as that observed through manual tuning - 97.5% test set accuracy.\n",
    "4. As observed with logistic regression - **credit score** has significantly highest in driving loan approval decision, while **years of employment** has the least significance."
   ]
  },
  {
   "cell_type": "code",
   "execution_count": 35,
   "id": "632c8d03-e39c-4438-a8fd-c861c9b3496b",
   "metadata": {},
   "outputs": [
    {
     "name": "stdout",
     "output_type": "stream",
     "text": [
      "Training Accuracy: 1.000\n",
      "Test Accuracy: 0.995\n"
     ]
    }
   ],
   "source": [
    "from xgboost import XGBClassifier\n",
    "\n",
    "xgb = XGBClassifier(random_state = 42)\n",
    "xgb.fit(X_train,y_train)\n",
    "\n",
    "y_train_pred = xgb.predict(X_train)\n",
    "y_test_pred = xgb.predict(X_test)\n",
    "\n",
    "train_acc = accuracy_score(y_train, y_train_pred)\n",
    "test_acc = accuracy_score(y_test, y_test_pred)\n",
    "\n",
    "print(f\"Training Accuracy: {train_acc:.3f}\")\n",
    "print(f\"Test Accuracy: {test_acc:.3f}\")"
   ]
  },
  {
   "cell_type": "code",
   "execution_count": 36,
   "id": "80f800e2-680e-4fa0-8757-f31b44727a47",
   "metadata": {},
   "outputs": [
    {
     "name": "stdout",
     "output_type": "stream",
     "text": [
      "Precision: 0.989\n",
      "Recall: 1.0\n",
      "F1 score: 0.995\n",
      "confusion matrix:\n"
     ]
    },
    {
     "data": {
      "text/html": [
       "<div>\n",
       "<style scoped>\n",
       "    .dataframe tbody tr th:only-of-type {\n",
       "        vertical-align: middle;\n",
       "    }\n",
       "\n",
       "    .dataframe tbody tr th {\n",
       "        vertical-align: top;\n",
       "    }\n",
       "\n",
       "    .dataframe thead th {\n",
       "        text-align: right;\n",
       "    }\n",
       "</style>\n",
       "<table border=\"1\" class=\"dataframe\">\n",
       "  <thead>\n",
       "    <tr style=\"text-align: right;\">\n",
       "      <th></th>\n",
       "      <th>Predicted Negative</th>\n",
       "      <th>Predicted Positive</th>\n",
       "    </tr>\n",
       "  </thead>\n",
       "  <tbody>\n",
       "    <tr>\n",
       "      <th>Actual Negative</th>\n",
       "      <td>211</td>\n",
       "      <td>2</td>\n",
       "    </tr>\n",
       "    <tr>\n",
       "      <th>Actual Positive</th>\n",
       "      <td>0</td>\n",
       "      <td>187</td>\n",
       "    </tr>\n",
       "  </tbody>\n",
       "</table>\n",
       "</div>"
      ],
      "text/plain": [
       "                 Predicted Negative  Predicted Positive\n",
       "Actual Negative                 211                   2\n",
       "Actual Positive                   0                 187"
      ]
     },
     "execution_count": 36,
     "metadata": {},
     "output_type": "execute_result"
    }
   ],
   "source": [
    "eval_model(y_test, y_test_pred)"
   ]
  },
  {
   "cell_type": "code",
   "execution_count": 37,
   "id": "13d060cd-a51f-486b-b144-0e6a48840e71",
   "metadata": {},
   "outputs": [
    {
     "name": "stdout",
     "output_type": "stream",
     "text": [
      "Ideal Parameters:\n",
      "{'learning_rate': 0.47874469323721347, 'max_depth': 10, 'n_estimators': 425, 'reg_alpha': 0.5101148935661022, 'reg_lambda': 0.8339276092579146}\n"
     ]
    }
   ],
   "source": [
    "# since multiple hyperparameters can be fine-tuned to improve performance - we'll use randomizedsearchCV to find the best set\n",
    "param_dist = {\n",
    "    'n_estimators': randint(50, 500),\n",
    "    'learning_rate': uniform(0.01, 0.5),\n",
    "    'max_depth': randint(3, 20),\n",
    "    'reg_alpha': uniform(0, 1),  \n",
    "    'reg_lambda': uniform(0, 1)  \n",
    "}\n",
    "\n",
    "random_search = RandomizedSearchCV(\n",
    "    estimator=xgb,\n",
    "    param_distributions=param_dist,\n",
    "    n_iter=50,              \n",
    "    scoring='accuracy',\n",
    "    cv=10,                   \n",
    ")\n",
    "\n",
    "random_search.fit(X_train, y_train)\n",
    "\n",
    "print(\"Ideal Parameters:\")\n",
    "print(random_search.best_params_)"
   ]
  },
  {
   "cell_type": "code",
   "execution_count": 40,
   "id": "8c1bf6e8-fdfb-46bb-9374-b1255f98b26b",
   "metadata": {},
   "outputs": [
    {
     "name": "stdout",
     "output_type": "stream",
     "text": [
      "Training Accuracy: 1.000\n",
      "Test Accuracy: 0.995\n"
     ]
    }
   ],
   "source": [
    "# training the XGB boost model with the best set of hyperparameters \n",
    "\n",
    "xgb_fin = XGBClassifier(\n",
    "    n_estimators=425,       \n",
    "    learning_rate=0.478,    \n",
    "    max_depth=10,  \n",
    "    reg_alpha = 0.51,\n",
    "    reg_lambda = 0.833,\n",
    "    random_state = 46\n",
    ")\n",
    "xgb_fin.fit(X_train,y_train)\n",
    "\n",
    "y_train_pred = xgb_fin.predict(X_train)\n",
    "y_test_pred = xgb_fin.predict(X_test)\n",
    "\n",
    "train_acc = accuracy_score(y_train, y_train_pred)\n",
    "test_acc = accuracy_score(y_test, y_test_pred)\n",
    "\n",
    "print(f\"Training Accuracy: {train_acc:.3f}\")\n",
    "print(f\"Test Accuracy: {test_acc:.3f}\")"
   ]
  },
  {
   "cell_type": "code",
   "execution_count": 41,
   "id": "55d0c8a2-141a-4263-bf9f-b4de37cf8ee0",
   "metadata": {},
   "outputs": [
    {
     "name": "stdout",
     "output_type": "stream",
     "text": [
      "Precision: 0.989\n",
      "Recall: 1.0\n",
      "F1 score: 0.995\n",
      "confusion matrix:\n"
     ]
    },
    {
     "data": {
      "text/html": [
       "<div>\n",
       "<style scoped>\n",
       "    .dataframe tbody tr th:only-of-type {\n",
       "        vertical-align: middle;\n",
       "    }\n",
       "\n",
       "    .dataframe tbody tr th {\n",
       "        vertical-align: top;\n",
       "    }\n",
       "\n",
       "    .dataframe thead th {\n",
       "        text-align: right;\n",
       "    }\n",
       "</style>\n",
       "<table border=\"1\" class=\"dataframe\">\n",
       "  <thead>\n",
       "    <tr style=\"text-align: right;\">\n",
       "      <th></th>\n",
       "      <th>Predicted Negative</th>\n",
       "      <th>Predicted Positive</th>\n",
       "    </tr>\n",
       "  </thead>\n",
       "  <tbody>\n",
       "    <tr>\n",
       "      <th>Actual Negative</th>\n",
       "      <td>211</td>\n",
       "      <td>2</td>\n",
       "    </tr>\n",
       "    <tr>\n",
       "      <th>Actual Positive</th>\n",
       "      <td>0</td>\n",
       "      <td>187</td>\n",
       "    </tr>\n",
       "  </tbody>\n",
       "</table>\n",
       "</div>"
      ],
      "text/plain": [
       "                 Predicted Negative  Predicted Positive\n",
       "Actual Negative                 211                   2\n",
       "Actual Positive                   0                 187"
      ]
     },
     "execution_count": 41,
     "metadata": {},
     "output_type": "execute_result"
    }
   ],
   "source": [
    "eval_model(y_test, y_test_pred)"
   ]
  },
  {
   "cell_type": "markdown",
   "id": "68790ec4-4cba-484a-aca0-2486d3bc73a0",
   "metadata": {},
   "source": [
    "**Final Observations:**\n",
    "\n",
    "1. XGBoost leads to **improvement** in test set accuracy/F1 score of **99.5%** compared to Random Forest (98.8%) - this is an increment of ~10% over the logistic regression model. \n",
    "2. However, Random Forest provides **more interpretability** in terms of model algorithm/decision-making process, along with the individual **feature importance**.\n",
    "3. Hence, considering an accuracy parity of ~0.7%, deploying the trained Random Forest would allow for optimum credit decision making, along with ensuring incoming data quality and QC for significant metrics such as credit score.\n",
    "4. It would be recommended to re-train the model with larger training dataset to check if the RandomForest can further match the accuracy level of XGBoost, which could further enhance accuracy of the underwriting operations. "
   ]
  },
  {
   "cell_type": "code",
   "execution_count": 47,
   "id": "2bb4eeee-03ae-46d4-9146-a8b3c127732e",
   "metadata": {},
   "outputs": [
    {
     "name": "stdout",
     "output_type": "stream",
     "text": [
      "                 model  accurracy  f1-score\n",
      "0                  KNN      0.948     0.945\n",
      "1  Logistic Regression      0.900     0.895\n",
      "2        Random Forest      0.988     0.987\n",
      "3              XGBoost      0.995     0.995\n"
     ]
    }
   ],
   "source": [
    "# summary of results\n",
    "models = [\"KNN\", \"Logistic Regression\", \"Random Forest\", \"XGBoost\"]\n",
    "accs = [ 0.948, 0.900, 0.988, 0.995]\n",
    "f1 = [0.945,0.895,0.987,0.995]\n",
    "\n",
    "res = pd.DataFrame({'model' : models, 'accurracy' : accs, 'f1-score': f1})\n",
    "print(res)"
   ]
  }
 ],
 "metadata": {
  "kernelspec": {
   "display_name": "Python 3 (ipykernel)",
   "language": "python",
   "name": "python3"
  },
  "language_info": {
   "codemirror_mode": {
    "name": "ipython",
    "version": 3
   },
   "file_extension": ".py",
   "mimetype": "text/x-python",
   "name": "python",
   "nbconvert_exporter": "python",
   "pygments_lexer": "ipython3",
   "version": "3.11.5"
  }
 },
 "nbformat": 4,
 "nbformat_minor": 5
}
