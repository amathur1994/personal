{
 "cells": [
  {
   "cell_type": "code",
   "execution_count": 2,
   "id": "ca64b6dc-930f-465a-8779-1ea21bcb028e",
   "metadata": {},
   "outputs": [],
   "source": [
    "import pandas as pd \n",
    "import numpy as np \n",
    "import matplotlib.pyplot as plt\n",
    "import seaborn as sns\n",
    "from sklearn.metrics import confusion_matrix"
   ]
  },
  {
   "cell_type": "code",
   "execution_count": 3,
   "id": "edf0bae2-86aa-4d51-b8d8-fb4c48d532c6",
   "metadata": {},
   "outputs": [],
   "source": [
    "# read the data \n",
    "df = pd.read_csv(\"cat_txns_full.csv\")"
   ]
  },
  {
   "cell_type": "code",
   "execution_count": 4,
   "id": "6b001d6b-2ef6-441c-81f9-0a3c1dd412e6",
   "metadata": {},
   "outputs": [
    {
     "data": {
      "text/html": [
       "<div>\n",
       "<style scoped>\n",
       "    .dataframe tbody tr th:only-of-type {\n",
       "        vertical-align: middle;\n",
       "    }\n",
       "\n",
       "    .dataframe tbody tr th {\n",
       "        vertical-align: top;\n",
       "    }\n",
       "\n",
       "    .dataframe thead th {\n",
       "        text-align: right;\n",
       "    }\n",
       "</style>\n",
       "<table border=\"1\" class=\"dataframe\">\n",
       "  <thead>\n",
       "    <tr style=\"text-align: right;\">\n",
       "      <th></th>\n",
       "      <th>transaction_date</th>\n",
       "      <th>amount</th>\n",
       "      <th>txn_type</th>\n",
       "      <th>balance</th>\n",
       "      <th>narration</th>\n",
       "      <th>category</th>\n",
       "    </tr>\n",
       "  </thead>\n",
       "  <tbody>\n",
       "    <tr>\n",
       "      <th>0</th>\n",
       "      <td>2024-07-11</td>\n",
       "      <td>10996.16</td>\n",
       "      <td>credit</td>\n",
       "      <td>56147.93</td>\n",
       "      <td>CASH DEPOSIT AT Joannaton BRANCH</td>\n",
       "      <td>cash deposit</td>\n",
       "    </tr>\n",
       "    <tr>\n",
       "      <th>1</th>\n",
       "      <td>2023-08-31</td>\n",
       "      <td>2001.34</td>\n",
       "      <td>debit</td>\n",
       "      <td>54308.62</td>\n",
       "      <td>POS-Mathis and Sons-MEAL PURCHASE</td>\n",
       "      <td>food</td>\n",
       "    </tr>\n",
       "    <tr>\n",
       "      <th>2</th>\n",
       "      <td>2023-09-03</td>\n",
       "      <td>1101.51</td>\n",
       "      <td>debit</td>\n",
       "      <td>41197.39</td>\n",
       "      <td>EMI PAYMENT TO Thompson, Martinez and Stout</td>\n",
       "      <td>loan</td>\n",
       "    </tr>\n",
       "    <tr>\n",
       "      <th>3</th>\n",
       "      <td>2024-02-04</td>\n",
       "      <td>9946.55</td>\n",
       "      <td>credit</td>\n",
       "      <td>41238.94</td>\n",
       "      <td>INVESTMENT TO MUTUAL FUND-enhance bricks-and-c...</td>\n",
       "      <td>investment</td>\n",
       "    </tr>\n",
       "    <tr>\n",
       "      <th>4</th>\n",
       "      <td>2024-08-29</td>\n",
       "      <td>10016.63</td>\n",
       "      <td>credit</td>\n",
       "      <td>43499.92</td>\n",
       "      <td>CASH DEPOSIT AT West Curtisberg BRANCH</td>\n",
       "      <td>cash deposit</td>\n",
       "    </tr>\n",
       "  </tbody>\n",
       "</table>\n",
       "</div>"
      ],
      "text/plain": [
       "  transaction_date    amount txn_type   balance  \\\n",
       "0       2024-07-11  10996.16   credit  56147.93   \n",
       "1       2023-08-31   2001.34    debit  54308.62   \n",
       "2       2023-09-03   1101.51    debit  41197.39   \n",
       "3       2024-02-04   9946.55   credit  41238.94   \n",
       "4       2024-08-29  10016.63   credit  43499.92   \n",
       "\n",
       "                                           narration      category  \n",
       "0                   CASH DEPOSIT AT Joannaton BRANCH  cash deposit  \n",
       "1                  POS-Mathis and Sons-MEAL PURCHASE          food  \n",
       "2        EMI PAYMENT TO Thompson, Martinez and Stout          loan  \n",
       "3  INVESTMENT TO MUTUAL FUND-enhance bricks-and-c...    investment  \n",
       "4             CASH DEPOSIT AT West Curtisberg BRANCH  cash deposit  "
      ]
     },
     "execution_count": 4,
     "metadata": {},
     "output_type": "execute_result"
    }
   ],
   "source": [
    "df.head()"
   ]
  },
  {
   "cell_type": "markdown",
   "id": "471d00e6-fa52-4d67-8dfa-b04a9ee6a213",
   "metadata": {
    "jp-MarkdownHeadingCollapsed": true
   },
   "source": [
    "### Exploratory Data Analysis"
   ]
  },
  {
   "cell_type": "code",
   "execution_count": 5,
   "id": "383f75c3-ab1f-400d-9af8-24fa25fafd1b",
   "metadata": {},
   "outputs": [
    {
     "name": "stdout",
     "output_type": "stream",
     "text": [
      "<class 'pandas.core.frame.DataFrame'>\n",
      "RangeIndex: 50000 entries, 0 to 49999\n",
      "Data columns (total 6 columns):\n",
      " #   Column            Non-Null Count  Dtype  \n",
      "---  ------            --------------  -----  \n",
      " 0   transaction_date  50000 non-null  object \n",
      " 1   amount            50000 non-null  float64\n",
      " 2   txn_type          50000 non-null  object \n",
      " 3   balance           50000 non-null  float64\n",
      " 4   narration         50000 non-null  object \n",
      " 5   category          50000 non-null  object \n",
      "dtypes: float64(2), object(4)\n",
      "memory usage: 2.3+ MB\n"
     ]
    }
   ],
   "source": [
    "# check data type and null values presence \n",
    "df.info()"
   ]
  },
  {
   "cell_type": "code",
   "execution_count": 6,
   "id": "bfad68d7-f9e1-4cf1-8c00-e6af075e4b83",
   "metadata": {},
   "outputs": [
    {
     "data": {
      "text/plain": [
       "True"
      ]
     },
     "execution_count": 6,
     "metadata": {},
     "output_type": "execute_result"
    }
   ],
   "source": [
    "# check duplicates - if False no duplicates exist \n",
    "df[\"narration\"].duplicated().any()"
   ]
  },
  {
   "cell_type": "code",
   "execution_count": 7,
   "id": "d8a33d51-7c71-413b-8b90-64479006c6b0",
   "metadata": {},
   "outputs": [
    {
     "data": {
      "text/html": [
       "<div>\n",
       "<style scoped>\n",
       "    .dataframe tbody tr th:only-of-type {\n",
       "        vertical-align: middle;\n",
       "    }\n",
       "\n",
       "    .dataframe tbody tr th {\n",
       "        vertical-align: top;\n",
       "    }\n",
       "\n",
       "    .dataframe thead th {\n",
       "        text-align: right;\n",
       "    }\n",
       "</style>\n",
       "<table border=\"1\" class=\"dataframe\">\n",
       "  <thead>\n",
       "    <tr style=\"text-align: right;\">\n",
       "      <th></th>\n",
       "      <th>amount</th>\n",
       "      <th>balance</th>\n",
       "    </tr>\n",
       "  </thead>\n",
       "  <tbody>\n",
       "    <tr>\n",
       "      <th>count</th>\n",
       "      <td>50000.000000</td>\n",
       "      <td>50000.000000</td>\n",
       "    </tr>\n",
       "    <tr>\n",
       "      <th>mean</th>\n",
       "      <td>10096.840074</td>\n",
       "      <td>50019.825441</td>\n",
       "    </tr>\n",
       "    <tr>\n",
       "      <th>std</th>\n",
       "      <td>15897.386444</td>\n",
       "      <td>10029.065858</td>\n",
       "    </tr>\n",
       "    <tr>\n",
       "      <th>min</th>\n",
       "      <td>-1056.000000</td>\n",
       "      <td>8997.070000</td>\n",
       "    </tr>\n",
       "    <tr>\n",
       "      <th>25%</th>\n",
       "      <td>1645.610000</td>\n",
       "      <td>43251.282500</td>\n",
       "    </tr>\n",
       "    <tr>\n",
       "      <th>50%</th>\n",
       "      <td>3441.965000</td>\n",
       "      <td>50043.195000</td>\n",
       "    </tr>\n",
       "    <tr>\n",
       "      <th>75%</th>\n",
       "      <td>9903.102500</td>\n",
       "      <td>56764.785000</td>\n",
       "    </tr>\n",
       "    <tr>\n",
       "      <th>max</th>\n",
       "      <td>84706.380000</td>\n",
       "      <td>88999.640000</td>\n",
       "    </tr>\n",
       "  </tbody>\n",
       "</table>\n",
       "</div>"
      ],
      "text/plain": [
       "             amount       balance\n",
       "count  50000.000000  50000.000000\n",
       "mean   10096.840074  50019.825441\n",
       "std    15897.386444  10029.065858\n",
       "min    -1056.000000   8997.070000\n",
       "25%     1645.610000  43251.282500\n",
       "50%     3441.965000  50043.195000\n",
       "75%     9903.102500  56764.785000\n",
       "max    84706.380000  88999.640000"
      ]
     },
     "execution_count": 7,
     "metadata": {},
     "output_type": "execute_result"
    }
   ],
   "source": [
    "df.describe()"
   ]
  },
  {
   "cell_type": "code",
   "execution_count": 8,
   "id": "3c19e9d5-be35-49db-9e77-7eef4e1af1b2",
   "metadata": {},
   "outputs": [
    {
     "data": {
      "text/plain": [
       "category\n",
       "investment         6176\n",
       "cash deposit       6202\n",
       "loan               6221\n",
       "salary             6222\n",
       "cash withdrawal    6259\n",
       "bank charges       6262\n",
       "food               6291\n",
       "bounce cheque      6367\n",
       "Name: count, dtype: int64"
      ]
     },
     "execution_count": 8,
     "metadata": {},
     "output_type": "execute_result"
    }
   ],
   "source": [
    "df[\"category\"].value_counts().sort_values()"
   ]
  },
  {
   "cell_type": "code",
   "execution_count": 9,
   "id": "29eff73c-38a9-44dc-b3dc-eb1bb26b30a4",
   "metadata": {},
   "outputs": [
    {
     "data": {
      "image/png": "[encoded data removed]",
      "text/plain": [
       "<Figure size 700x400 with 1 Axes>"
      ]
     },
     "metadata": {},
     "output_type": "display_data"
    }
   ],
   "source": [
    "# check class distribution - categories seem evenly distributed - bounce cheque has highest count \n",
    "\n",
    "category_counts = df['category'].value_counts().sort_values(ascending=True)\n",
    "\n",
    "plt.figure(figsize=(7, 4))\n",
    "category_counts.plot(kind='bar', color='skyblue', edgecolor='black')\n",
    "\n",
    "# Add labels and title\n",
    "plt.xlabel('Category')\n",
    "plt.ylabel('Count')\n",
    "plt.title('Count of Each Category')\n",
    "plt.xticks(rotation=45)\n",
    "plt.tight_layout()\n",
    "\n",
    "plt.show()"
   ]
  },
  {
   "cell_type": "code",
   "execution_count": 10,
   "id": "fc8b69d2-0b9d-4e8f-8bb8-18ec2cd18440",
   "metadata": {},
   "outputs": [],
   "source": [
    "# check token count distribution  \n",
    "df[\"narr_len\"] = df[\"narration\"].apply(lambda x: len(x.split()))"
   ]
  },
  {
   "cell_type": "code",
   "execution_count": 11,
   "id": "7f715b8f-a09e-400e-a149-2c3e619613b1",
   "metadata": {},
   "outputs": [
    {
     "data": {
      "text/plain": [
       "count    50000.000000\n",
       "mean         4.511660\n",
       "std          1.494814\n",
       "min          2.000000\n",
       "25%          4.000000\n",
       "50%          5.000000\n",
       "75%          6.000000\n",
       "max          7.000000\n",
       "Name: narr_len, dtype: float64"
      ]
     },
     "execution_count": 11,
     "metadata": {},
     "output_type": "execute_result"
    }
   ],
   "source": [
    "# word-wise token distribution \n",
    "df[\"narr_len\"].describe()"
   ]
  },
  {
   "cell_type": "code",
   "execution_count": 12,
   "id": "15f6ae53-a09e-480b-acce-e792a0dc6bea",
   "metadata": {},
   "outputs": [
    {
     "data": {
      "image/png": "[encoded data removed]",
      "text/plain": [
       "<Figure size 600x300 with 1 Axes>"
      ]
     },
     "metadata": {},
     "output_type": "display_data"
    }
   ],
   "source": [
    "plt.figure(figsize=(6,3))\n",
    "plt.hist(df[\"narr_len\"], bins=20, color=\"skyblue\", edgecolor=\"black\")\n",
    "\n",
    "plt.xlabel(\"Narration Length (number of words)\")\n",
    "plt.ylabel(\"Frequency\")\n",
    "plt.title(\"Distribution of Narration Lengths\")\n",
    "plt.tight_layout()\n",
    "plt.show()"
   ]
  },
  {
   "cell_type": "code",
   "execution_count": 13,
   "id": "b253548b-2ad5-4cbe-b1d5-faf89ff60efb",
   "metadata": {},
   "outputs": [],
   "source": [
    "from sklearn.feature_extraction.text import CountVectorizer, TfidfVectorizer\n",
    "\n",
    "cv = CountVectorizer(stop_words = \"english\")\n",
    "vec = cv.fit_transform(df[\"narration\"])\n",
    "\n",
    "count = pd.DataFrame(vec.toarray(),columns = cv.get_feature_names_out())"
   ]
  },
  {
   "cell_type": "code",
   "execution_count": 14,
   "id": "10be0ab8-77ed-47fb-856c-d891ba006ac7",
   "metadata": {},
   "outputs": [],
   "source": [
    "count[\"category\"] = df[\"category\"]"
   ]
  },
  {
   "cell_type": "code",
   "execution_count": 15,
   "id": "74e0b508-34e5-4be8-8ec1-e4b2323a64f2",
   "metadata": {},
   "outputs": [
    {
     "data": {
      "text/html": [
       "<div>\n",
       "<style scoped>\n",
       "    .dataframe tbody tr th:only-of-type {\n",
       "        vertical-align: middle;\n",
       "    }\n",
       "\n",
       "    .dataframe tbody tr th {\n",
       "        vertical-align: top;\n",
       "    }\n",
       "\n",
       "    .dataframe thead th {\n",
       "        text-align: right;\n",
       "    }\n",
       "</style>\n",
       "<table border=\"1\" class=\"dataframe\">\n",
       "  <thead>\n",
       "    <tr style=\"text-align: right;\">\n",
       "      <th></th>\n",
       "      <th>24</th>\n",
       "      <th>365</th>\n",
       "      <th>aabm00549793326169</th>\n",
       "      <th>aacsgbem</th>\n",
       "      <th>aaddgbb8dyj</th>\n",
       "      <th>aadm29587504939133</th>\n",
       "      <th>aadq43767740080311</th>\n",
       "      <th>aafl63398316039805</th>\n",
       "      <th>aagj28435541235274</th>\n",
       "      <th>aahp34978084715245</th>\n",
       "      <th>...</th>\n",
       "      <th>zzpi88604304657582</th>\n",
       "      <th>zzpqgbi3</th>\n",
       "      <th>zzro76713073393585</th>\n",
       "      <th>zztfgbhzrdj</th>\n",
       "      <th>zztjgbo6</th>\n",
       "      <th>zzvm85324121465091</th>\n",
       "      <th>zzwvgblu</th>\n",
       "      <th>zzyd71059979340121</th>\n",
       "      <th>zzywgbq0gh9</th>\n",
       "      <th>zzzz01190263633594</th>\n",
       "    </tr>\n",
       "    <tr>\n",
       "      <th>category</th>\n",
       "      <th></th>\n",
       "      <th></th>\n",
       "      <th></th>\n",
       "      <th></th>\n",
       "      <th></th>\n",
       "      <th></th>\n",
       "      <th></th>\n",
       "      <th></th>\n",
       "      <th></th>\n",
       "      <th></th>\n",
       "      <th></th>\n",
       "      <th></th>\n",
       "      <th></th>\n",
       "      <th></th>\n",
       "      <th></th>\n",
       "      <th></th>\n",
       "      <th></th>\n",
       "      <th></th>\n",
       "      <th></th>\n",
       "      <th></th>\n",
       "      <th></th>\n",
       "    </tr>\n",
       "  </thead>\n",
       "  <tbody>\n",
       "    <tr>\n",
       "      <th>bank charges</th>\n",
       "      <td>0</td>\n",
       "      <td>0</td>\n",
       "      <td>0</td>\n",
       "      <td>0</td>\n",
       "      <td>0</td>\n",
       "      <td>0</td>\n",
       "      <td>0</td>\n",
       "      <td>0</td>\n",
       "      <td>0</td>\n",
       "      <td>0</td>\n",
       "      <td>...</td>\n",
       "      <td>0</td>\n",
       "      <td>0</td>\n",
       "      <td>0</td>\n",
       "      <td>0</td>\n",
       "      <td>0</td>\n",
       "      <td>0</td>\n",
       "      <td>0</td>\n",
       "      <td>0</td>\n",
       "      <td>0</td>\n",
       "      <td>0</td>\n",
       "    </tr>\n",
       "    <tr>\n",
       "      <th>bounce cheque</th>\n",
       "      <td>0</td>\n",
       "      <td>0</td>\n",
       "      <td>1</td>\n",
       "      <td>0</td>\n",
       "      <td>0</td>\n",
       "      <td>1</td>\n",
       "      <td>1</td>\n",
       "      <td>1</td>\n",
       "      <td>1</td>\n",
       "      <td>1</td>\n",
       "      <td>...</td>\n",
       "      <td>1</td>\n",
       "      <td>0</td>\n",
       "      <td>1</td>\n",
       "      <td>0</td>\n",
       "      <td>0</td>\n",
       "      <td>1</td>\n",
       "      <td>0</td>\n",
       "      <td>1</td>\n",
       "      <td>0</td>\n",
       "      <td>1</td>\n",
       "    </tr>\n",
       "    <tr>\n",
       "      <th>cash deposit</th>\n",
       "      <td>0</td>\n",
       "      <td>0</td>\n",
       "      <td>0</td>\n",
       "      <td>0</td>\n",
       "      <td>0</td>\n",
       "      <td>0</td>\n",
       "      <td>0</td>\n",
       "      <td>0</td>\n",
       "      <td>0</td>\n",
       "      <td>0</td>\n",
       "      <td>...</td>\n",
       "      <td>0</td>\n",
       "      <td>0</td>\n",
       "      <td>0</td>\n",
       "      <td>0</td>\n",
       "      <td>0</td>\n",
       "      <td>0</td>\n",
       "      <td>0</td>\n",
       "      <td>0</td>\n",
       "      <td>0</td>\n",
       "      <td>0</td>\n",
       "    </tr>\n",
       "    <tr>\n",
       "      <th>cash withdrawal</th>\n",
       "      <td>0</td>\n",
       "      <td>0</td>\n",
       "      <td>0</td>\n",
       "      <td>0</td>\n",
       "      <td>0</td>\n",
       "      <td>0</td>\n",
       "      <td>0</td>\n",
       "      <td>0</td>\n",
       "      <td>0</td>\n",
       "      <td>0</td>\n",
       "      <td>...</td>\n",
       "      <td>0</td>\n",
       "      <td>0</td>\n",
       "      <td>0</td>\n",
       "      <td>0</td>\n",
       "      <td>0</td>\n",
       "      <td>0</td>\n",
       "      <td>0</td>\n",
       "      <td>0</td>\n",
       "      <td>0</td>\n",
       "      <td>0</td>\n",
       "    </tr>\n",
       "    <tr>\n",
       "      <th>food</th>\n",
       "      <td>0</td>\n",
       "      <td>0</td>\n",
       "      <td>0</td>\n",
       "      <td>0</td>\n",
       "      <td>0</td>\n",
       "      <td>0</td>\n",
       "      <td>0</td>\n",
       "      <td>0</td>\n",
       "      <td>0</td>\n",
       "      <td>0</td>\n",
       "      <td>...</td>\n",
       "      <td>0</td>\n",
       "      <td>0</td>\n",
       "      <td>0</td>\n",
       "      <td>0</td>\n",
       "      <td>0</td>\n",
       "      <td>0</td>\n",
       "      <td>0</td>\n",
       "      <td>0</td>\n",
       "      <td>0</td>\n",
       "      <td>0</td>\n",
       "    </tr>\n",
       "    <tr>\n",
       "      <th>investment</th>\n",
       "      <td>208</td>\n",
       "      <td>103</td>\n",
       "      <td>0</td>\n",
       "      <td>0</td>\n",
       "      <td>0</td>\n",
       "      <td>0</td>\n",
       "      <td>0</td>\n",
       "      <td>0</td>\n",
       "      <td>0</td>\n",
       "      <td>0</td>\n",
       "      <td>...</td>\n",
       "      <td>0</td>\n",
       "      <td>0</td>\n",
       "      <td>0</td>\n",
       "      <td>0</td>\n",
       "      <td>0</td>\n",
       "      <td>0</td>\n",
       "      <td>0</td>\n",
       "      <td>0</td>\n",
       "      <td>0</td>\n",
       "      <td>0</td>\n",
       "    </tr>\n",
       "    <tr>\n",
       "      <th>loan</th>\n",
       "      <td>0</td>\n",
       "      <td>0</td>\n",
       "      <td>0</td>\n",
       "      <td>0</td>\n",
       "      <td>0</td>\n",
       "      <td>0</td>\n",
       "      <td>0</td>\n",
       "      <td>0</td>\n",
       "      <td>0</td>\n",
       "      <td>0</td>\n",
       "      <td>...</td>\n",
       "      <td>0</td>\n",
       "      <td>0</td>\n",
       "      <td>0</td>\n",
       "      <td>0</td>\n",
       "      <td>0</td>\n",
       "      <td>0</td>\n",
       "      <td>0</td>\n",
       "      <td>0</td>\n",
       "      <td>0</td>\n",
       "      <td>0</td>\n",
       "    </tr>\n",
       "    <tr>\n",
       "      <th>salary</th>\n",
       "      <td>0</td>\n",
       "      <td>0</td>\n",
       "      <td>0</td>\n",
       "      <td>1</td>\n",
       "      <td>1</td>\n",
       "      <td>0</td>\n",
       "      <td>0</td>\n",
       "      <td>0</td>\n",
       "      <td>0</td>\n",
       "      <td>0</td>\n",
       "      <td>...</td>\n",
       "      <td>0</td>\n",
       "      <td>1</td>\n",
       "      <td>0</td>\n",
       "      <td>1</td>\n",
       "      <td>1</td>\n",
       "      <td>0</td>\n",
       "      <td>1</td>\n",
       "      <td>0</td>\n",
       "      <td>1</td>\n",
       "      <td>0</td>\n",
       "    </tr>\n",
       "  </tbody>\n",
       "</table>\n",
       "<p>8 rows × 20895 columns</p>\n",
       "</div>"
      ],
      "text/plain": [
       "                  24  365  aabm00549793326169  aacsgbem  aaddgbb8dyj  \\\n",
       "category                                                               \n",
       "bank charges       0    0                   0         0            0   \n",
       "bounce cheque      0    0                   1         0            0   \n",
       "cash deposit       0    0                   0         0            0   \n",
       "cash withdrawal    0    0                   0         0            0   \n",
       "food               0    0                   0         0            0   \n",
       "investment       208  103                   0         0            0   \n",
       "loan               0    0                   0         0            0   \n",
       "salary             0    0                   0         1            1   \n",
       "\n",
       "                 aadm29587504939133  aadq43767740080311  aafl63398316039805  \\\n",
       "category                                                                      \n",
       "bank charges                      0                   0                   0   \n",
       "bounce cheque                     1                   1                   1   \n",
       "cash deposit                      0                   0                   0   \n",
       "cash withdrawal                   0                   0                   0   \n",
       "food                              0                   0                   0   \n",
       "investment                        0                   0                   0   \n",
       "loan                              0                   0                   0   \n",
       "salary                            0                   0                   0   \n",
       "\n",
       "                 aagj28435541235274  aahp34978084715245  ...  \\\n",
       "category                                                 ...   \n",
       "bank charges                      0                   0  ...   \n",
       "bounce cheque                     1                   1  ...   \n",
       "cash deposit                      0                   0  ...   \n",
       "cash withdrawal                   0                   0  ...   \n",
       "food                              0                   0  ...   \n",
       "investment                        0                   0  ...   \n",
       "loan                              0                   0  ...   \n",
       "salary                            0                   0  ...   \n",
       "\n",
       "                 zzpi88604304657582  zzpqgbi3  zzro76713073393585  \\\n",
       "category                                                            \n",
       "bank charges                      0         0                   0   \n",
       "bounce cheque                     1         0                   1   \n",
       "cash deposit                      0         0                   0   \n",
       "cash withdrawal                   0         0                   0   \n",
       "food                              0         0                   0   \n",
       "investment                        0         0                   0   \n",
       "loan                              0         0                   0   \n",
       "salary                            0         1                   0   \n",
       "\n",
       "                 zztfgbhzrdj  zztjgbo6  zzvm85324121465091  zzwvgblu  \\\n",
       "category                                                               \n",
       "bank charges               0         0                   0         0   \n",
       "bounce cheque              0         0                   1         0   \n",
       "cash deposit               0         0                   0         0   \n",
       "cash withdrawal            0         0                   0         0   \n",
       "food                       0         0                   0         0   \n",
       "investment                 0         0                   0         0   \n",
       "loan                       0         0                   0         0   \n",
       "salary                     1         1                   0         1   \n",
       "\n",
       "                 zzyd71059979340121  zzywgbq0gh9  zzzz01190263633594  \n",
       "category                                                              \n",
       "bank charges                      0            0                   0  \n",
       "bounce cheque                     1            0                   1  \n",
       "cash deposit                      0            0                   0  \n",
       "cash withdrawal                   0            0                   0  \n",
       "food                              0            0                   0  \n",
       "investment                        0            0                   0  \n",
       "loan                              0            0                   0  \n",
       "salary                            0            1                   0  \n",
       "\n",
       "[8 rows x 20895 columns]"
      ]
     },
     "execution_count": 15,
     "metadata": {},
     "output_type": "execute_result"
    }
   ],
   "source": [
    "count.groupby(\"category\").sum()"
   ]
  },
  {
   "cell_type": "code",
   "execution_count": 16,
   "id": "f40f4ec1-3488-48c5-b97a-6fc131b1b45d",
   "metadata": {},
   "outputs": [],
   "source": [
    "# fit the tfdidf model to check word frequency per cateogry\n",
    "tfidf = TfidfVectorizer(stop_words='english')\n",
    "X_tfidf = tfidf.fit_transform(df['narration'])\n",
    "\n",
    "\n",
    "tfidf_df = pd.DataFrame(X_tfidf.toarray(), columns=tfidf.get_feature_names_out())\n",
    "tfidf_df['category'] = df['category']\n",
    "\n",
    "res_idf = tfidf_df.groupby('category').mean()"
   ]
  },
  {
   "cell_type": "code",
   "execution_count": 17,
   "id": "54a76840-347b-4474-9726-e242a4e16e56",
   "metadata": {},
   "outputs": [
    {
     "data": {
      "text/plain": [
       "['deposit', 'cash', 'branch', 'east', 'new']"
      ]
     },
     "execution_count": 17,
     "metadata": {},
     "output_type": "execute_result"
    }
   ],
   "source": [
    "list(res_idf.loc[\"cash deposit\"].sort_values(ascending = False).head(5).index.values)"
   ]
  },
  {
   "cell_type": "code",
   "execution_count": 18,
   "id": "87c5d290-87f5-40c3-9de8-f2230f23df79",
   "metadata": {},
   "outputs": [
    {
     "data": {
      "text/plain": [
       "['neft', 'credit', 'salary', 'sons', 'group']"
      ]
     },
     "execution_count": 18,
     "metadata": {},
     "output_type": "execute_result"
    }
   ],
   "source": [
    "list(res_idf.loc[\"salary\"].sort_values(ascending = False).head(5).index.values)"
   ]
  },
  {
   "cell_type": "markdown",
   "id": "0c6265fa-650c-4132-b291-e2841cfea539",
   "metadata": {
    "jp-MarkdownHeadingCollapsed": true
   },
   "source": [
    "### Text Cleaning and Tokenization"
   ]
  },
  {
   "cell_type": "code",
   "execution_count": 19,
   "id": "9da4c076-06ad-425c-b6e4-6a8a60709b15",
   "metadata": {},
   "outputs": [],
   "source": [
    "# prepare input text for model training  \n",
    "df[\"narr_inp\"] = df[\"narration\"].str.lower()"
   ]
  },
  {
   "cell_type": "code",
   "execution_count": 20,
   "id": "2a0336ee-74c0-4c1b-a4da-1ed2dd30d992",
   "metadata": {},
   "outputs": [],
   "source": [
    "# clean text\n",
    "import re \n",
    "def clean_text(row):\n",
    "    clean = re.sub(r'[₹$]', 'curr',row)\n",
    "    clean = re.sub(r'[^a-zA-Z0-9\\s]', ' ', clean)\n",
    "    return clean \n",
    "\n",
    "df[\"narr_inp\"] = df[\"narr_inp\"].apply(clean_text)\n",
    "\n",
    "# standardize whitespaces \n",
    "df[\"narr_inp\"] = df[\"narr_inp\"].str.replace(r'/s+', ' ', regex = True)"
   ]
  },
  {
   "cell_type": "code",
   "execution_count": 21,
   "id": "4490e197-d445-4240-a289-1fab547e4331",
   "metadata": {},
   "outputs": [
    {
     "name": "stdout",
     "output_type": "stream",
     "text": [
      "shape before dropping duplicate narrs : (50000, 8)\n",
      "shape before dropping duplicate narrs : (41101, 8)\n"
     ]
    }
   ],
   "source": [
    "print(\"shape before dropping duplicate narrs :\", df.shape)\n",
    "df = df.drop_duplicates(subset=['narr_inp'])\n",
    "print(\"shape before dropping duplicate narrs :\", df.shape)"
   ]
  },
  {
   "cell_type": "code",
   "execution_count": 22,
   "id": "7ddcabe9-3446-4a3d-957b-319a487179cb",
   "metadata": {},
   "outputs": [],
   "source": [
    "import torch\n",
    "from transformers import AutoTokenizer\n",
    "\n",
    "# we will use distilbert tokenizer \n",
    "tokenizer = AutoTokenizer.from_pretrained(\"distilbert-base-uncased\")\n",
    "\n",
    "enc = tokenizer(\n",
    "    df.narr_inp.to_list(),\n",
    "    padding=True,           \n",
    "    truncation=True,        \n",
    "    return_tensors=\"pt\"     \n",
    ")"
   ]
  },
  {
   "cell_type": "code",
   "execution_count": 23,
   "id": "b103580e-ce85-449d-80e3-bea955ced97a",
   "metadata": {},
   "outputs": [
    {
     "data": {
      "text/plain": [
       "tensor([  101,  5356, 12816,  2012, 15730,  2669,  3589,   102,     0,     0,\n",
       "            0,     0,     0,     0,     0,     0,     0,     0,     0,     0,\n",
       "            0,     0,     0])"
      ]
     },
     "execution_count": 23,
     "metadata": {},
     "output_type": "execute_result"
    }
   ],
   "source": [
    "# checking the token ids for the first narration \n",
    "enc['input_ids'][0]"
   ]
  },
  {
   "cell_type": "code",
   "execution_count": 24,
   "id": "149aac72-523c-4526-9805-c01d67b2ae02",
   "metadata": {},
   "outputs": [
    {
     "data": {
      "text/plain": [
       "torch.int64"
      ]
     },
     "execution_count": 24,
     "metadata": {},
     "output_type": "execute_result"
    }
   ],
   "source": [
    "enc[\"input_ids\"].dtype"
   ]
  },
  {
   "cell_type": "code",
   "execution_count": 25,
   "id": "9e905669-2963-4161-9ff8-9f93c0fcae9f",
   "metadata": {},
   "outputs": [
    {
     "data": {
      "text/plain": [
       "'cash deposit at joannaton branch'"
      ]
     },
     "execution_count": 25,
     "metadata": {},
     "output_type": "execute_result"
    }
   ],
   "source": [
    "df.narr_inp[0]"
   ]
  },
  {
   "cell_type": "code",
   "execution_count": 26,
   "id": "981bf5ac-7ba8-44a1-b3a5-fab3c38eb4ea",
   "metadata": {},
   "outputs": [
    {
     "name": "stdout",
     "output_type": "stream",
     "text": [
      "torch.Size([41101, 23])\n",
      "tensor([1, 1, 1, 1, 1, 1, 1, 1, 0, 0, 0, 0, 0, 0, 0, 0, 0, 0, 0, 0, 0, 0, 0])\n"
     ]
    }
   ],
   "source": [
    "print(enc[\"input_ids\"].shape)  # (batch_size, seq_len)\n",
    "print(enc[\"attention_mask\"][0])"
   ]
  },
  {
   "cell_type": "code",
   "execution_count": 27,
   "id": "25fa1d6e-df68-48db-a4cd-0dc60f63ee6d",
   "metadata": {
    "scrolled": true
   },
   "outputs": [
    {
     "data": {
      "text/plain": [
       "['[CLS]',\n",
       " 'cash',\n",
       " 'deposit',\n",
       " 'at',\n",
       " 'joanna',\n",
       " '##ton',\n",
       " 'branch',\n",
       " '[SEP]',\n",
       " '[PAD]',\n",
       " '[PAD]',\n",
       " '[PAD]',\n",
       " '[PAD]',\n",
       " '[PAD]',\n",
       " '[PAD]',\n",
       " '[PAD]',\n",
       " '[PAD]',\n",
       " '[PAD]',\n",
       " '[PAD]',\n",
       " '[PAD]',\n",
       " '[PAD]',\n",
       " '[PAD]',\n",
       " '[PAD]',\n",
       " '[PAD]']"
      ]
     },
     "execution_count": 27,
     "metadata": {},
     "output_type": "execute_result"
    }
   ],
   "source": [
    "# checking mapping of tokens (post tokenization of narration text) to token ids \n",
    "tokenizer.convert_ids_to_tokens(enc[\"input_ids\"][0])"
   ]
  },
  {
   "cell_type": "markdown",
   "id": "7b9cfd0c-5907-4b2b-b422-98df56be84b8",
   "metadata": {},
   "source": [
    "### Model Training "
   ]
  },
  {
   "cell_type": "code",
   "execution_count": 28,
   "id": "f2f3b47d-cad2-489a-bc89-c64b1dc64ee7",
   "metadata": {},
   "outputs": [
    {
     "name": "stdout",
     "output_type": "stream",
     "text": [
      "mps\n"
     ]
    }
   ],
   "source": [
    "# use GPU operation for optimizing training run\n",
    "device = \"mps\" if torch.backends.mps.is_available() else \"cpu\"\n",
    "print(device)"
   ]
  },
  {
   "cell_type": "code",
   "execution_count": 29,
   "id": "25f36757-1d96-4062-8514-af5c383c8784",
   "metadata": {},
   "outputs": [
    {
     "name": "stderr",
     "output_type": "stream",
     "text": [
      "huggingface/tokenizers: The current process just got forked, after parallelism has already been used. Disabling parallelism to avoid deadlocks...\n",
      "To disable this warning, you can either:\n",
      "\t- Avoid using `tokenizers` before the fork if possible\n",
      "\t- Explicitly set the environment variable TOKENIZERS_PARALLELISM=(true | false)\n"
     ]
    }
   ],
   "source": [
    "from datasets import Dataset, Features, ClassLabel, Sequence, Value\n",
    "\n",
    "# label encoding for classes\n",
    "labels_list = sorted(df[\"category\"].unique())          \n",
    "label2id = {lbl: i for i, lbl in enumerate(labels_list)}\n",
    "y = df[\"category\"].map(label2id).astype(\"int64\").tolist()\n",
    "\n",
    "# schema for dataset \n",
    "features = Features({\n",
    "    \"input_ids\":      Sequence(Value(\"int64\")),\n",
    "    \"attention_mask\": Sequence(Value(\"int64\")),\n",
    "    \"labels\":         ClassLabel(names=labels_list),  \n",
    "})\n",
    "\n",
    "# create dataset with encoding vals and labels \n",
    "dataset = Dataset.from_dict(\n",
    "    {\n",
    "        \"input_ids\": enc[\"input_ids\"].tolist(),\n",
    "        \"attention_mask\": enc[\"attention_mask\"].tolist(),\n",
    "        \"labels\": y,                               \n",
    "    },\n",
    "    features=features\n",
    ")\n",
    "\n",
    "# split dataset into training and evaluation \n",
    "splits = dataset.train_test_split(test_size=0.30, stratify_by_column=\"labels\", seed=42)\n",
    "train_ds, eval_ds = splits[\"train\"], splits[\"test\"]"
   ]
  },
  {
   "cell_type": "code",
   "execution_count": 30,
   "id": "bbad192b-4e14-40d8-a092-8545dbccf793",
   "metadata": {},
   "outputs": [
    {
     "name": "stderr",
     "output_type": "stream",
     "text": [
      "Some weights of DistilBertForSequenceClassification were not initialized from the model checkpoint at distilbert-base-uncased and are newly initialized: ['classifier.bias', 'classifier.weight', 'pre_classifier.bias', 'pre_classifier.weight']\n",
      "You should probably TRAIN this model on a down-stream task to be able to use it for predictions and inference.\n"
     ]
    }
   ],
   "source": [
    "# choose distilBERT for fine-tuning\n",
    "from transformers import DistilBertForSequenceClassification\n",
    "model = DistilBertForSequenceClassification.from_pretrained(\n",
    "    \"distilbert-base-uncased\",\n",
    "    num_labels=8\n",
    ")"
   ]
  },
  {
   "cell_type": "code",
   "execution_count": 38,
   "id": "a108c588-132e-45f9-b682-83b1c934575d",
   "metadata": {},
   "outputs": [
    {
     "name": "stderr",
     "output_type": "stream",
     "text": [
      "/var/folders/yd/c6pqg7cn1zg9lxy5vkyf64fm0000gn/T/ipykernel_63183/472858572.py:32: FutureWarning: `tokenizer` is deprecated and will be removed in version 5.0.0 for `Trainer.__init__`. Use `processing_class` instead.\n",
      "  trainer = Trainer(\n"
     ]
    }
   ],
   "source": [
    "from sklearn.metrics import accuracy_score, precision_recall_fscore_support, confusion_matrix\n",
    "import numpy as np\n",
    "from transformers import TrainingArguments, Trainer\n",
    "\n",
    "\n",
    "# metrics to evaluate classifier performance\n",
    "def eval_metrics(pred):\n",
    "    labels = pred.label_ids\n",
    "    preds = np.argmax(pred.predictions, axis=1)  \n",
    "    acc = accuracy_score(labels, preds)\n",
    "    precision, recall, f1, _ = precision_recall_fscore_support(labels, preds, average=\"weighted\")\n",
    "    cm = confusion_matrix(labels, preds)\n",
    "\n",
    "    return {\n",
    "        \"accuracy\": acc,\n",
    "        \"f1\": f1,\n",
    "        \"precision\": precision,\n",
    "        \"recall\": recall,\n",
    "        \"confusion_matrix\": cm.tolist()   \n",
    "    }\n",
    "\n",
    "\n",
    "# setting 3 epochs\n",
    "n_epoch = 3\n",
    "\n",
    "training_args = TrainingArguments(\n",
    "    output_dir=\"./results\",\n",
    "    per_device_train_batch_size=8,\n",
    "    per_device_eval_batch_size=8,\n",
    "    num_train_epochs= n_epoch,\n",
    "    eval_strategy=\"epoch\",\n",
    "    learning_rate=2e-5,\n",
    "    weight_decay=0.01,\n",
    "    logging_dir=\"./logs\",\n",
    ")\n",
    "trainer = Trainer(\n",
    "    model=model,\n",
    "    args=training_args,\n",
    "    train_dataset=train_ds,\n",
    "    eval_dataset=eval_ds,\n",
    "    tokenizer=tokenizer,\n",
    "    compute_metrics = eval_metrics\n",
    ")"
   ]
  },
  {
   "cell_type": "code",
   "execution_count": 39,
   "id": "21cebafc-8d85-47fa-922a-205d92d1fb3c",
   "metadata": {
    "scrolled": true
   },
   "outputs": [
    {
     "name": "stderr",
     "output_type": "stream",
     "text": [
      "/Users/akhilmathur/anaconda3/lib/python3.11/site-packages/torch/utils/data/dataloader.py:684: UserWarning: 'pin_memory' argument is set as true but not supported on MPS now, then device pinned memory won't be used.\n",
      "  warnings.warn(warn_msg)\n"
     ]
    },
    {
     "data": {
      "text/html": [
       "\n",
       "    <div>\n",
       "      \n",
       "      <progress value='10791' max='10791' style='width:300px; height:20px; vertical-align: middle;'></progress>\n",
       "      [10791/10791 20:12, Epoch 3/3]\n",
       "    </div>\n",
       "    <table border=\"1\" class=\"dataframe\">\n",
       "  <thead>\n",
       " <tr style=\"text-align: left;\">\n",
       "      <th>Epoch</th>\n",
       "      <th>Training Loss</th>\n",
       "      <th>Validation Loss</th>\n",
       "      <th>Accuracy</th>\n",
       "      <th>F1</th>\n",
       "      <th>Precision</th>\n",
       "      <th>Recall</th>\n",
       "      <th>Confusion Matrix</th>\n",
       "    </tr>\n",
       "  </thead>\n",
       "  <tbody>\n",
       "    <tr>\n",
       "      <td>1</td>\n",
       "      <td>0.000200</td>\n",
       "      <td>0.000067</td>\n",
       "      <td>1.000000</td>\n",
       "      <td>1.000000</td>\n",
       "      <td>1.000000</td>\n",
       "      <td>1.000000</td>\n",
       "      <td>[[291, 0, 0, 0, 0, 0, 0, 0], [0, 1910, 0, 0, 0, 0, 0, 0], [0, 0, 1542, 0, 0, 0, 0, 0], [0, 0, 0, 1555, 0, 0, 0, 0], [0, 0, 0, 0, 1692, 0, 0, 0], [0, 0, 0, 0, 0, 1814, 0, 0], [0, 0, 0, 0, 0, 0, 1660, 0], [0, 0, 0, 0, 0, 0, 0, 1867]]</td>\n",
       "    </tr>\n",
       "    <tr>\n",
       "      <td>2</td>\n",
       "      <td>0.000000</td>\n",
       "      <td>0.000010</td>\n",
       "      <td>1.000000</td>\n",
       "      <td>1.000000</td>\n",
       "      <td>1.000000</td>\n",
       "      <td>1.000000</td>\n",
       "      <td>[[291, 0, 0, 0, 0, 0, 0, 0], [0, 1910, 0, 0, 0, 0, 0, 0], [0, 0, 1542, 0, 0, 0, 0, 0], [0, 0, 0, 1555, 0, 0, 0, 0], [0, 0, 0, 0, 1692, 0, 0, 0], [0, 0, 0, 0, 0, 1814, 0, 0], [0, 0, 0, 0, 0, 0, 1660, 0], [0, 0, 0, 0, 0, 0, 0, 1867]]</td>\n",
       "    </tr>\n",
       "    <tr>\n",
       "      <td>3</td>\n",
       "      <td>0.000000</td>\n",
       "      <td>0.000004</td>\n",
       "      <td>1.000000</td>\n",
       "      <td>1.000000</td>\n",
       "      <td>1.000000</td>\n",
       "      <td>1.000000</td>\n",
       "      <td>[[291, 0, 0, 0, 0, 0, 0, 0], [0, 1910, 0, 0, 0, 0, 0, 0], [0, 0, 1542, 0, 0, 0, 0, 0], [0, 0, 0, 1555, 0, 0, 0, 0], [0, 0, 0, 0, 1692, 0, 0, 0], [0, 0, 0, 0, 0, 1814, 0, 0], [0, 0, 0, 0, 0, 0, 1660, 0], [0, 0, 0, 0, 0, 0, 0, 1867]]</td>\n",
       "    </tr>\n",
       "  </tbody>\n",
       "</table><p>"
      ],
      "text/plain": [
       "<IPython.core.display.HTML object>"
      ]
     },
     "metadata": {},
     "output_type": "display_data"
    },
    {
     "name": "stderr",
     "output_type": "stream",
     "text": [
      "/Users/akhilmathur/anaconda3/lib/python3.11/site-packages/torch/utils/data/dataloader.py:684: UserWarning: 'pin_memory' argument is set as true but not supported on MPS now, then device pinned memory won't be used.\n",
      "  warnings.warn(warn_msg)\n",
      "Trainer is attempting to log a value of \"[[291, 0, 0, 0, 0, 0, 0, 0], [0, 1910, 0, 0, 0, 0, 0, 0], [0, 0, 1542, 0, 0, 0, 0, 0], [0, 0, 0, 1555, 0, 0, 0, 0], [0, 0, 0, 0, 1692, 0, 0, 0], [0, 0, 0, 0, 0, 1814, 0, 0], [0, 0, 0, 0, 0, 0, 1660, 0], [0, 0, 0, 0, 0, 0, 0, 1867]]\" of type <class 'list'> for key \"eval/confusion_matrix\" as a scalar. This invocation of Tensorboard's writer.add_scalar() is incorrect so we dropped this attribute.\n",
      "/Users/akhilmathur/anaconda3/lib/python3.11/site-packages/torch/utils/data/dataloader.py:684: UserWarning: 'pin_memory' argument is set as true but not supported on MPS now, then device pinned memory won't be used.\n",
      "  warnings.warn(warn_msg)\n",
      "/Users/akhilmathur/anaconda3/lib/python3.11/site-packages/torch/utils/data/dataloader.py:684: UserWarning: 'pin_memory' argument is set as true but not supported on MPS now, then device pinned memory won't be used.\n",
      "  warnings.warn(warn_msg)\n",
      "Trainer is attempting to log a value of \"[[291, 0, 0, 0, 0, 0, 0, 0], [0, 1910, 0, 0, 0, 0, 0, 0], [0, 0, 1542, 0, 0, 0, 0, 0], [0, 0, 0, 1555, 0, 0, 0, 0], [0, 0, 0, 0, 1692, 0, 0, 0], [0, 0, 0, 0, 0, 1814, 0, 0], [0, 0, 0, 0, 0, 0, 1660, 0], [0, 0, 0, 0, 0, 0, 0, 1867]]\" of type <class 'list'> for key \"eval/confusion_matrix\" as a scalar. This invocation of Tensorboard's writer.add_scalar() is incorrect so we dropped this attribute.\n",
      "/Users/akhilmathur/anaconda3/lib/python3.11/site-packages/torch/utils/data/dataloader.py:684: UserWarning: 'pin_memory' argument is set as true but not supported on MPS now, then device pinned memory won't be used.\n",
      "  warnings.warn(warn_msg)\n",
      "/Users/akhilmathur/anaconda3/lib/python3.11/site-packages/torch/utils/data/dataloader.py:684: UserWarning: 'pin_memory' argument is set as true but not supported on MPS now, then device pinned memory won't be used.\n",
      "  warnings.warn(warn_msg)\n",
      "Trainer is attempting to log a value of \"[[291, 0, 0, 0, 0, 0, 0, 0], [0, 1910, 0, 0, 0, 0, 0, 0], [0, 0, 1542, 0, 0, 0, 0, 0], [0, 0, 0, 1555, 0, 0, 0, 0], [0, 0, 0, 0, 1692, 0, 0, 0], [0, 0, 0, 0, 0, 1814, 0, 0], [0, 0, 0, 0, 0, 0, 1660, 0], [0, 0, 0, 0, 0, 0, 0, 1867]]\" of type <class 'list'> for key \"eval/confusion_matrix\" as a scalar. This invocation of Tensorboard's writer.add_scalar() is incorrect so we dropped this attribute.\n"
     ]
    },
    {
     "data": {
      "text/plain": [
       "TrainOutput(global_step=10791, training_loss=0.009048554081834501, metrics={'train_runtime': 1213.7265, 'train_samples_per_second': 71.112, 'train_steps_per_second': 8.891, 'total_flos': 513658485819360.0, 'train_loss': 0.009048554081834501, 'epoch': 3.0})"
      ]
     },
     "execution_count": 39,
     "metadata": {},
     "output_type": "execute_result"
    }
   ],
   "source": [
    "trainer.train()"
   ]
  },
  {
   "cell_type": "markdown",
   "id": "b5413064-535c-4c3b-951e-975d2484e997",
   "metadata": {},
   "source": [
    "### Model Evaluation "
   ]
  },
  {
   "cell_type": "code",
   "execution_count": 42,
   "id": "6b02587b-5598-478f-9165-0b93cc4a7344",
   "metadata": {},
   "outputs": [
    {
     "name": "stderr",
     "output_type": "stream",
     "text": [
      "/Users/akhilmathur/anaconda3/lib/python3.11/site-packages/torch/utils/data/dataloader.py:684: UserWarning: 'pin_memory' argument is set as true but not supported on MPS now, then device pinned memory won't be used.\n",
      "  warnings.warn(warn_msg)\n",
      "\n",
      "KeyboardInterrupt\n",
      "\n"
     ]
    }
   ],
   "source": [
    "results = trainer.evaluate(eval_dataset=eval_ds)"
   ]
  },
  {
   "cell_type": "code",
   "execution_count": 49,
   "id": "cca2cdc8-2636-4b86-b6f9-fe02723550b4",
   "metadata": {},
   "outputs": [
    {
     "data": {
      "text/plain": [
       "{'eval_loss': 4.03891999667394e-06,\n",
       " 'eval_accuracy': 1.0,\n",
       " 'eval_f1': 1.0,\n",
       " 'eval_precision': 1.0,\n",
       " 'eval_recall': 1.0,\n",
       " 'eval_runtime': 26.6611,\n",
       " 'eval_samples_per_second': 462.509,\n",
       " 'eval_steps_per_second': 57.837,\n",
       " 'epoch': 3.0}"
      ]
     },
     "execution_count": 49,
     "metadata": {},
     "output_type": "execute_result"
    }
   ],
   "source": [
    "del results[\"eval_confusion_matrix\"]\n",
    "\n",
    "# print performance metrics of classifier \n",
    "results"
   ]
  },
  {
   "cell_type": "code",
   "execution_count": 46,
   "id": "b1fc4d78-11a2-4608-9a3c-ae95f2e76525",
   "metadata": {},
   "outputs": [
    {
     "name": "stderr",
     "output_type": "stream",
     "text": [
      "/Users/akhilmathur/anaconda3/lib/python3.11/site-packages/torch/utils/data/dataloader.py:684: UserWarning: 'pin_memory' argument is set as true but not supported on MPS now, then device pinned memory won't be used.\n",
      "  warnings.warn(warn_msg)\n",
      "Trainer is attempting to log a value of \"[[291, 0, 0, 0, 0, 0, 0, 0], [0, 1910, 0, 0, 0, 0, 0, 0], [0, 0, 1542, 0, 0, 0, 0, 0], [0, 0, 0, 1555, 0, 0, 0, 0], [0, 0, 0, 0, 1692, 0, 0, 0], [0, 0, 0, 0, 0, 1814, 0, 0], [0, 0, 0, 0, 0, 0, 1660, 0], [0, 0, 0, 0, 0, 0, 0, 1867]]\" of type <class 'list'> for key \"eval/confusion_matrix\" as a scalar. This invocation of Tensorboard's writer.add_scalar() is incorrect so we dropped this attribute.\n",
      "/Users/akhilmathur/anaconda3/lib/python3.11/site-packages/torch/utils/data/dataloader.py:684: UserWarning: 'pin_memory' argument is set as true but not supported on MPS now, then device pinned memory won't be used.\n",
      "  warnings.warn(warn_msg)\n"
     ]
    },
    {
     "data": {
      "image/png": "[encoded data removed]",
      "text/plain": [
       "<Figure size 800x600 with 2 Axes>"
      ]
     },
     "metadata": {},
     "output_type": "display_data"
    }
   ],
   "source": [
    "# generate heatmap for confusion matrix - focus on critical categories like bounce, salary to ensure lowest FNs for such txns \n",
    "\n",
    "results = trainer.evaluate(eval_dataset=eval_ds)\n",
    "predictions = trainer.predict(eval_ds)\n",
    "y_true = predictions.label_ids\n",
    "y_pred = np.argmax(predictions.predictions, axis=1)\n",
    "\n",
    "cm = confusion_matrix(y_true, y_pred)\n",
    "labels_list = sorted(df[\"category\"].unique())\n",
    "plt.figure(figsize=(8,6))\n",
    "sns.heatmap(cm, annot=True, fmt=\"d\", cmap=\"Blues\",\n",
    "            xticklabels=labels_list,\n",
    "            yticklabels=labels_list)\n",
    "\n",
    "plt.xlabel(\"Predicted Label\")\n",
    "plt.ylabel(\"True Label\")\n",
    "plt.title(\"Confusion Matrix\")\n",
    "plt.xticks(rotation=45, ha=\"right\")\n",
    "plt.yticks(rotation=0)\n",
    "plt.tight_layout()\n",
    "plt.show()"
   ]
  }
 ],
 "metadata": {
  "kernelspec": {
   "display_name": "Python 3 (ipykernel)",
   "language": "python",
   "name": "python3"
  },
  "language_info": {
   "codemirror_mode": {
    "name": "ipython",
    "version": 3
   },
   "file_extension": ".py",
   "mimetype": "text/x-python",
   "name": "python",
   "nbconvert_exporter": "python",
   "pygments_lexer": "ipython3",
   "version": "3.11.5"
  }
 },
 "nbformat": 4,
 "nbformat_minor": 5
}
